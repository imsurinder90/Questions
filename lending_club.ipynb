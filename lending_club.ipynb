{
 "cells": [
  {
   "cell_type": "code",
   "execution_count": 24,
   "metadata": {},
   "outputs": [],
   "source": [
    "from sklearn.model_selection import train_test_split\n",
    "from sklearn.model_selection import cross_val_score\n",
    "from sklearn.model_selection import GridSearchCV\n",
    "from sklearn.preprocessing import StandardScaler\n",
    "from sklearn.metrics import confusion_matrix\n",
    "from sklearn.metrics import roc_auc_score\n",
    "from sklearn.metrics import roc_curve\n",
    "from scipy.stats import boxcox\n",
    "import seaborn as sns\n",
    "import pandas as pd\n",
    "import numpy as np\n",
    "import matplotlib.pyplot as plt"
   ]
  },
  {
   "cell_type": "code",
   "execution_count": 3,
   "metadata": {},
   "outputs": [],
   "source": [
    "df = pd.read_csv(\"./data.csv\", low_memory=False)"
   ]
  },
  {
   "cell_type": "code",
   "execution_count": 237,
   "metadata": {},
   "outputs": [
    {
     "data": {
      "text/html": [
       "<div>\n",
       "<style scoped>\n",
       "    .dataframe tbody tr th:only-of-type {\n",
       "        vertical-align: middle;\n",
       "    }\n",
       "\n",
       "    .dataframe tbody tr th {\n",
       "        vertical-align: top;\n",
       "    }\n",
       "\n",
       "    .dataframe thead th {\n",
       "        text-align: right;\n",
       "    }\n",
       "</style>\n",
       "<table border=\"1\" class=\"dataframe\">\n",
       "  <thead>\n",
       "    <tr style=\"text-align: right;\">\n",
       "      <th></th>\n",
       "      <th>id</th>\n",
       "      <th>member_id</th>\n",
       "      <th>loan_amnt</th>\n",
       "      <th>funded_amnt</th>\n",
       "      <th>funded_amnt_inv</th>\n",
       "      <th>term</th>\n",
       "      <th>int_rate</th>\n",
       "      <th>installment</th>\n",
       "      <th>grade</th>\n",
       "      <th>sub_grade</th>\n",
       "      <th>...</th>\n",
       "      <th>orig_projected_additional_accrued_interest</th>\n",
       "      <th>hardship_payoff_balance_amount</th>\n",
       "      <th>hardship_last_payment_amount</th>\n",
       "      <th>debt_settlement_flag</th>\n",
       "      <th>debt_settlement_flag_date</th>\n",
       "      <th>settlement_status</th>\n",
       "      <th>settlement_date</th>\n",
       "      <th>settlement_amount</th>\n",
       "      <th>settlement_percentage</th>\n",
       "      <th>settlement_term</th>\n",
       "    </tr>\n",
       "  </thead>\n",
       "  <tbody>\n",
       "    <tr>\n",
       "      <th>0</th>\n",
       "      <td>1077501</td>\n",
       "      <td>NaN</td>\n",
       "      <td>5000.0</td>\n",
       "      <td>5000.0</td>\n",
       "      <td>4975.0</td>\n",
       "      <td>36 months</td>\n",
       "      <td>10.65%</td>\n",
       "      <td>162.87</td>\n",
       "      <td>B</td>\n",
       "      <td>B2</td>\n",
       "      <td>...</td>\n",
       "      <td>NaN</td>\n",
       "      <td>NaN</td>\n",
       "      <td>NaN</td>\n",
       "      <td>N</td>\n",
       "      <td>NaN</td>\n",
       "      <td>NaN</td>\n",
       "      <td>NaN</td>\n",
       "      <td>NaN</td>\n",
       "      <td>NaN</td>\n",
       "      <td>NaN</td>\n",
       "    </tr>\n",
       "    <tr>\n",
       "      <th>1</th>\n",
       "      <td>1077430</td>\n",
       "      <td>NaN</td>\n",
       "      <td>2500.0</td>\n",
       "      <td>2500.0</td>\n",
       "      <td>2500.0</td>\n",
       "      <td>60 months</td>\n",
       "      <td>15.27%</td>\n",
       "      <td>59.83</td>\n",
       "      <td>C</td>\n",
       "      <td>C4</td>\n",
       "      <td>...</td>\n",
       "      <td>NaN</td>\n",
       "      <td>NaN</td>\n",
       "      <td>NaN</td>\n",
       "      <td>N</td>\n",
       "      <td>NaN</td>\n",
       "      <td>NaN</td>\n",
       "      <td>NaN</td>\n",
       "      <td>NaN</td>\n",
       "      <td>NaN</td>\n",
       "      <td>NaN</td>\n",
       "    </tr>\n",
       "    <tr>\n",
       "      <th>2</th>\n",
       "      <td>1077175</td>\n",
       "      <td>NaN</td>\n",
       "      <td>2400.0</td>\n",
       "      <td>2400.0</td>\n",
       "      <td>2400.0</td>\n",
       "      <td>36 months</td>\n",
       "      <td>15.96%</td>\n",
       "      <td>84.33</td>\n",
       "      <td>C</td>\n",
       "      <td>C5</td>\n",
       "      <td>...</td>\n",
       "      <td>NaN</td>\n",
       "      <td>NaN</td>\n",
       "      <td>NaN</td>\n",
       "      <td>N</td>\n",
       "      <td>NaN</td>\n",
       "      <td>NaN</td>\n",
       "      <td>NaN</td>\n",
       "      <td>NaN</td>\n",
       "      <td>NaN</td>\n",
       "      <td>NaN</td>\n",
       "    </tr>\n",
       "    <tr>\n",
       "      <th>3</th>\n",
       "      <td>1076863</td>\n",
       "      <td>NaN</td>\n",
       "      <td>10000.0</td>\n",
       "      <td>10000.0</td>\n",
       "      <td>10000.0</td>\n",
       "      <td>36 months</td>\n",
       "      <td>13.49%</td>\n",
       "      <td>339.31</td>\n",
       "      <td>C</td>\n",
       "      <td>C1</td>\n",
       "      <td>...</td>\n",
       "      <td>NaN</td>\n",
       "      <td>NaN</td>\n",
       "      <td>NaN</td>\n",
       "      <td>N</td>\n",
       "      <td>NaN</td>\n",
       "      <td>NaN</td>\n",
       "      <td>NaN</td>\n",
       "      <td>NaN</td>\n",
       "      <td>NaN</td>\n",
       "      <td>NaN</td>\n",
       "    </tr>\n",
       "    <tr>\n",
       "      <th>4</th>\n",
       "      <td>1075358</td>\n",
       "      <td>NaN</td>\n",
       "      <td>3000.0</td>\n",
       "      <td>3000.0</td>\n",
       "      <td>3000.0</td>\n",
       "      <td>60 months</td>\n",
       "      <td>12.69%</td>\n",
       "      <td>67.79</td>\n",
       "      <td>B</td>\n",
       "      <td>B5</td>\n",
       "      <td>...</td>\n",
       "      <td>NaN</td>\n",
       "      <td>NaN</td>\n",
       "      <td>NaN</td>\n",
       "      <td>N</td>\n",
       "      <td>NaN</td>\n",
       "      <td>NaN</td>\n",
       "      <td>NaN</td>\n",
       "      <td>NaN</td>\n",
       "      <td>NaN</td>\n",
       "      <td>NaN</td>\n",
       "    </tr>\n",
       "  </tbody>\n",
       "</table>\n",
       "<p>5 rows × 150 columns</p>\n",
       "</div>"
      ],
      "text/plain": [
       "        id  member_id  loan_amnt  funded_amnt  funded_amnt_inv        term  \\\n",
       "0  1077501        NaN     5000.0       5000.0           4975.0   36 months   \n",
       "1  1077430        NaN     2500.0       2500.0           2500.0   60 months   \n",
       "2  1077175        NaN     2400.0       2400.0           2400.0   36 months   \n",
       "3  1076863        NaN    10000.0      10000.0          10000.0   36 months   \n",
       "4  1075358        NaN     3000.0       3000.0           3000.0   60 months   \n",
       "\n",
       "  int_rate  installment grade sub_grade       ...        \\\n",
       "0   10.65%       162.87     B        B2       ...         \n",
       "1   15.27%        59.83     C        C4       ...         \n",
       "2   15.96%        84.33     C        C5       ...         \n",
       "3   13.49%       339.31     C        C1       ...         \n",
       "4   12.69%        67.79     B        B5       ...         \n",
       "\n",
       "  orig_projected_additional_accrued_interest hardship_payoff_balance_amount  \\\n",
       "0                                        NaN                            NaN   \n",
       "1                                        NaN                            NaN   \n",
       "2                                        NaN                            NaN   \n",
       "3                                        NaN                            NaN   \n",
       "4                                        NaN                            NaN   \n",
       "\n",
       "  hardship_last_payment_amount  debt_settlement_flag  \\\n",
       "0                          NaN                     N   \n",
       "1                          NaN                     N   \n",
       "2                          NaN                     N   \n",
       "3                          NaN                     N   \n",
       "4                          NaN                     N   \n",
       "\n",
       "  debt_settlement_flag_date settlement_status settlement_date  \\\n",
       "0                       NaN               NaN             NaN   \n",
       "1                       NaN               NaN             NaN   \n",
       "2                       NaN               NaN             NaN   \n",
       "3                       NaN               NaN             NaN   \n",
       "4                       NaN               NaN             NaN   \n",
       "\n",
       "  settlement_amount settlement_percentage settlement_term  \n",
       "0               NaN                   NaN             NaN  \n",
       "1               NaN                   NaN             NaN  \n",
       "2               NaN                   NaN             NaN  \n",
       "3               NaN                   NaN             NaN  \n",
       "4               NaN                   NaN             NaN  \n",
       "\n",
       "[5 rows x 150 columns]"
      ]
     },
     "execution_count": 237,
     "metadata": {},
     "output_type": "execute_result"
    }
   ],
   "source": [
    "df.head()"
   ]
  },
  {
   "cell_type": "code",
   "execution_count": 238,
   "metadata": {},
   "outputs": [],
   "source": [
    "df1 = df.dropna(axis=1, thresh=int(0.80*len(df)))"
   ]
  },
  {
   "cell_type": "code",
   "execution_count": 239,
   "metadata": {
    "scrolled": true
   },
   "outputs": [
    {
     "data": {
      "text/html": [
       "<div>\n",
       "<style scoped>\n",
       "    .dataframe tbody tr th:only-of-type {\n",
       "        vertical-align: middle;\n",
       "    }\n",
       "\n",
       "    .dataframe tbody tr th {\n",
       "        vertical-align: top;\n",
       "    }\n",
       "\n",
       "    .dataframe thead th {\n",
       "        text-align: right;\n",
       "    }\n",
       "</style>\n",
       "<table border=\"1\" class=\"dataframe\">\n",
       "  <thead>\n",
       "    <tr style=\"text-align: right;\">\n",
       "      <th></th>\n",
       "      <th>id</th>\n",
       "      <th>loan_amnt</th>\n",
       "      <th>funded_amnt</th>\n",
       "      <th>funded_amnt_inv</th>\n",
       "      <th>term</th>\n",
       "      <th>int_rate</th>\n",
       "      <th>installment</th>\n",
       "      <th>grade</th>\n",
       "      <th>sub_grade</th>\n",
       "      <th>emp_title</th>\n",
       "      <th>...</th>\n",
       "      <th>collections_12_mths_ex_med</th>\n",
       "      <th>policy_code</th>\n",
       "      <th>application_type</th>\n",
       "      <th>acc_now_delinq</th>\n",
       "      <th>chargeoff_within_12_mths</th>\n",
       "      <th>delinq_amnt</th>\n",
       "      <th>pub_rec_bankruptcies</th>\n",
       "      <th>tax_liens</th>\n",
       "      <th>hardship_flag</th>\n",
       "      <th>debt_settlement_flag</th>\n",
       "    </tr>\n",
       "  </thead>\n",
       "  <tbody>\n",
       "    <tr>\n",
       "      <th>0</th>\n",
       "      <td>1077501</td>\n",
       "      <td>5000.0</td>\n",
       "      <td>5000.0</td>\n",
       "      <td>4975.0</td>\n",
       "      <td>36 months</td>\n",
       "      <td>10.65%</td>\n",
       "      <td>162.87</td>\n",
       "      <td>B</td>\n",
       "      <td>B2</td>\n",
       "      <td>NaN</td>\n",
       "      <td>...</td>\n",
       "      <td>0.0</td>\n",
       "      <td>1.0</td>\n",
       "      <td>Individual</td>\n",
       "      <td>0.0</td>\n",
       "      <td>0.0</td>\n",
       "      <td>0.0</td>\n",
       "      <td>0.0</td>\n",
       "      <td>0.0</td>\n",
       "      <td>N</td>\n",
       "      <td>N</td>\n",
       "    </tr>\n",
       "    <tr>\n",
       "      <th>1</th>\n",
       "      <td>1077430</td>\n",
       "      <td>2500.0</td>\n",
       "      <td>2500.0</td>\n",
       "      <td>2500.0</td>\n",
       "      <td>60 months</td>\n",
       "      <td>15.27%</td>\n",
       "      <td>59.83</td>\n",
       "      <td>C</td>\n",
       "      <td>C4</td>\n",
       "      <td>Ryder</td>\n",
       "      <td>...</td>\n",
       "      <td>0.0</td>\n",
       "      <td>1.0</td>\n",
       "      <td>Individual</td>\n",
       "      <td>0.0</td>\n",
       "      <td>0.0</td>\n",
       "      <td>0.0</td>\n",
       "      <td>0.0</td>\n",
       "      <td>0.0</td>\n",
       "      <td>N</td>\n",
       "      <td>N</td>\n",
       "    </tr>\n",
       "    <tr>\n",
       "      <th>2</th>\n",
       "      <td>1077175</td>\n",
       "      <td>2400.0</td>\n",
       "      <td>2400.0</td>\n",
       "      <td>2400.0</td>\n",
       "      <td>36 months</td>\n",
       "      <td>15.96%</td>\n",
       "      <td>84.33</td>\n",
       "      <td>C</td>\n",
       "      <td>C5</td>\n",
       "      <td>NaN</td>\n",
       "      <td>...</td>\n",
       "      <td>0.0</td>\n",
       "      <td>1.0</td>\n",
       "      <td>Individual</td>\n",
       "      <td>0.0</td>\n",
       "      <td>0.0</td>\n",
       "      <td>0.0</td>\n",
       "      <td>0.0</td>\n",
       "      <td>0.0</td>\n",
       "      <td>N</td>\n",
       "      <td>N</td>\n",
       "    </tr>\n",
       "    <tr>\n",
       "      <th>3</th>\n",
       "      <td>1076863</td>\n",
       "      <td>10000.0</td>\n",
       "      <td>10000.0</td>\n",
       "      <td>10000.0</td>\n",
       "      <td>36 months</td>\n",
       "      <td>13.49%</td>\n",
       "      <td>339.31</td>\n",
       "      <td>C</td>\n",
       "      <td>C1</td>\n",
       "      <td>AIR RESOURCES BOARD</td>\n",
       "      <td>...</td>\n",
       "      <td>0.0</td>\n",
       "      <td>1.0</td>\n",
       "      <td>Individual</td>\n",
       "      <td>0.0</td>\n",
       "      <td>0.0</td>\n",
       "      <td>0.0</td>\n",
       "      <td>0.0</td>\n",
       "      <td>0.0</td>\n",
       "      <td>N</td>\n",
       "      <td>N</td>\n",
       "    </tr>\n",
       "    <tr>\n",
       "      <th>4</th>\n",
       "      <td>1075358</td>\n",
       "      <td>3000.0</td>\n",
       "      <td>3000.0</td>\n",
       "      <td>3000.0</td>\n",
       "      <td>60 months</td>\n",
       "      <td>12.69%</td>\n",
       "      <td>67.79</td>\n",
       "      <td>B</td>\n",
       "      <td>B5</td>\n",
       "      <td>University Medical Group</td>\n",
       "      <td>...</td>\n",
       "      <td>0.0</td>\n",
       "      <td>1.0</td>\n",
       "      <td>Individual</td>\n",
       "      <td>0.0</td>\n",
       "      <td>0.0</td>\n",
       "      <td>0.0</td>\n",
       "      <td>0.0</td>\n",
       "      <td>0.0</td>\n",
       "      <td>N</td>\n",
       "      <td>N</td>\n",
       "    </tr>\n",
       "  </tbody>\n",
       "</table>\n",
       "<p>5 rows × 58 columns</p>\n",
       "</div>"
      ],
      "text/plain": [
       "        id  loan_amnt  funded_amnt  funded_amnt_inv        term int_rate  \\\n",
       "0  1077501     5000.0       5000.0           4975.0   36 months   10.65%   \n",
       "1  1077430     2500.0       2500.0           2500.0   60 months   15.27%   \n",
       "2  1077175     2400.0       2400.0           2400.0   36 months   15.96%   \n",
       "3  1076863    10000.0      10000.0          10000.0   36 months   13.49%   \n",
       "4  1075358     3000.0       3000.0           3000.0   60 months   12.69%   \n",
       "\n",
       "   installment grade sub_grade                 emp_title         ...           \\\n",
       "0       162.87     B        B2                       NaN         ...            \n",
       "1        59.83     C        C4                     Ryder         ...            \n",
       "2        84.33     C        C5                       NaN         ...            \n",
       "3       339.31     C        C1       AIR RESOURCES BOARD         ...            \n",
       "4        67.79     B        B5  University Medical Group         ...            \n",
       "\n",
       "  collections_12_mths_ex_med policy_code  application_type acc_now_delinq  \\\n",
       "0                        0.0         1.0        Individual            0.0   \n",
       "1                        0.0         1.0        Individual            0.0   \n",
       "2                        0.0         1.0        Individual            0.0   \n",
       "3                        0.0         1.0        Individual            0.0   \n",
       "4                        0.0         1.0        Individual            0.0   \n",
       "\n",
       "  chargeoff_within_12_mths delinq_amnt pub_rec_bankruptcies tax_liens  \\\n",
       "0                      0.0         0.0                  0.0       0.0   \n",
       "1                      0.0         0.0                  0.0       0.0   \n",
       "2                      0.0         0.0                  0.0       0.0   \n",
       "3                      0.0         0.0                  0.0       0.0   \n",
       "4                      0.0         0.0                  0.0       0.0   \n",
       "\n",
       "  hardship_flag debt_settlement_flag  \n",
       "0             N                    N  \n",
       "1             N                    N  \n",
       "2             N                    N  \n",
       "3             N                    N  \n",
       "4             N                    N  \n",
       "\n",
       "[5 rows x 58 columns]"
      ]
     },
     "execution_count": 239,
     "metadata": {},
     "output_type": "execute_result"
    }
   ],
   "source": [
    "df1.head()"
   ]
  },
  {
   "cell_type": "markdown",
   "metadata": {},
   "source": [
    "### Total columns in Loan dataset"
   ]
  },
  {
   "cell_type": "code",
   "execution_count": 240,
   "metadata": {},
   "outputs": [
    {
     "data": {
      "text/plain": [
       "150"
      ]
     },
     "execution_count": 240,
     "metadata": {},
     "output_type": "execute_result"
    }
   ],
   "source": [
    "len(df.columns)"
   ]
  },
  {
   "cell_type": "markdown",
   "metadata": {},
   "source": [
    "### Columns after removing missing data cols"
   ]
  },
  {
   "cell_type": "code",
   "execution_count": 241,
   "metadata": {},
   "outputs": [
    {
     "data": {
      "text/plain": [
       "58"
      ]
     },
     "execution_count": 241,
     "metadata": {},
     "output_type": "execute_result"
    }
   ],
   "source": [
    "len(df1.columns)"
   ]
  },
  {
   "cell_type": "markdown",
   "metadata": {},
   "source": [
    "### Select necessary columns for analysis"
   ]
  },
  {
   "cell_type": "code",
   "execution_count": 242,
   "metadata": {},
   "outputs": [],
   "source": [
    "df_LC = df1.filter(['loan_amnt','term','int_rate','installment','grade','sub_grade','emp_length','home_ownership',\n",
    "                    'annual_inc','verification_status','purpose','dti','delinq_2yrs','loan_status'])"
   ]
  },
  {
   "cell_type": "markdown",
   "metadata": {},
   "source": [
    "### Lets look at the types of target class"
   ]
  },
  {
   "cell_type": "code",
   "execution_count": 243,
   "metadata": {},
   "outputs": [
    {
     "data": {
      "text/plain": [
       "Fully Paid                                             34116\n",
       "Charged Off                                             5670\n",
       "Does not meet the credit policy. Status:Fully Paid      1988\n",
       "Does not meet the credit policy. Status:Charged Off      761\n",
       "Name: loan_status, dtype: int64"
      ]
     },
     "execution_count": 243,
     "metadata": {},
     "output_type": "execute_result"
    }
   ],
   "source": [
    "df_LC['loan_status'].value_counts()"
   ]
  },
  {
   "cell_type": "code",
   "execution_count": 244,
   "metadata": {},
   "outputs": [
    {
     "data": {
      "text/plain": [
       "<matplotlib.axes._subplots.AxesSubplot at 0x26b4b3c8>"
      ]
     },
     "execution_count": 244,
     "metadata": {},
     "output_type": "execute_result"
    },
    {
     "data": {
      "image/png": "[encoded data removed]",
      "text/plain": [
       "<matplotlib.figure.Figure at 0x26b43cc0>"
      ]
     },
     "metadata": {},
     "output_type": "display_data"
    }
   ],
   "source": [
    "##finding the correlation matrix and changing the categorical data to category for the plot.\n",
    "plt.subplots(figsize=(10,8))\n",
    "sns.heatmap(df_LC.assign(grade=df_LC.grade.astype('category').cat.codes,\n",
    "                         sub_g=df_LC.sub_grade.astype('category').cat.codes,\n",
    "                         term=df_LC.term.astype('category').cat.codes,\n",
    "                         emp_l=df_LC.emp_length.astype('category').cat.codes,\n",
    "                         ver=df_LC.verification_status.astype('category').cat.codes,\n",
    "                         home=df_LC.home_ownership.astype('category').cat.codes,\n",
    "                         int_rate=df_LC.int_rate.astype('category').cat.codes,\n",
    "                         purp=df_LC.purpose.astype('category').cat.codes).corr(), \n",
    "                         annot=True, cmap='bwr',vmin=-1, vmax=1, square=True, linewidths=0.5)"
   ]
  },
  {
   "cell_type": "markdown",
   "metadata": {},
   "source": [
    "It can be seen from the plot above that loan amount and installment have a very high correlation amongst each other (0.94). This is intuitive since a person who takes a large sum of loan would require extra time to repay it back. Also, interest rate, sub grade and grade have a very high correlation between them. This is obvious since interest rate is decided by grades once the grades are decided, a subgrade is assigned to that loan (leading to high correlation).\n",
    "\n",
    "Let's drop the three categories alongwith term and verification status(since it doesn't provide any valuable info) for further analysis."
   ]
  },
  {
   "cell_type": "code",
   "execution_count": 245,
   "metadata": {},
   "outputs": [],
   "source": [
    "df_LC.drop(['installment','grade','sub_grade','verification_status','term'],\n",
    "           axis=1, inplace = True)"
   ]
  },
  {
   "cell_type": "code",
   "execution_count": 246,
   "metadata": {},
   "outputs": [
    {
     "data": {
      "text/html": [
       "<div>\n",
       "<style scoped>\n",
       "    .dataframe tbody tr th:only-of-type {\n",
       "        vertical-align: middle;\n",
       "    }\n",
       "\n",
       "    .dataframe tbody tr th {\n",
       "        vertical-align: top;\n",
       "    }\n",
       "\n",
       "    .dataframe thead th {\n",
       "        text-align: right;\n",
       "    }\n",
       "</style>\n",
       "<table border=\"1\" class=\"dataframe\">\n",
       "  <thead>\n",
       "    <tr style=\"text-align: right;\">\n",
       "      <th></th>\n",
       "      <th>Count</th>\n",
       "      <th>Percent</th>\n",
       "    </tr>\n",
       "  </thead>\n",
       "  <tbody>\n",
       "    <tr>\n",
       "      <th>loan_amnt</th>\n",
       "      <td>7</td>\n",
       "      <td>0.016454</td>\n",
       "    </tr>\n",
       "    <tr>\n",
       "      <th>int_rate</th>\n",
       "      <td>7</td>\n",
       "      <td>0.016454</td>\n",
       "    </tr>\n",
       "    <tr>\n",
       "      <th>emp_length</th>\n",
       "      <td>1119</td>\n",
       "      <td>2.630342</td>\n",
       "    </tr>\n",
       "    <tr>\n",
       "      <th>home_ownership</th>\n",
       "      <td>7</td>\n",
       "      <td>0.016454</td>\n",
       "    </tr>\n",
       "    <tr>\n",
       "      <th>annual_inc</th>\n",
       "      <td>11</td>\n",
       "      <td>0.025857</td>\n",
       "    </tr>\n",
       "    <tr>\n",
       "      <th>purpose</th>\n",
       "      <td>7</td>\n",
       "      <td>0.016454</td>\n",
       "    </tr>\n",
       "    <tr>\n",
       "      <th>dti</th>\n",
       "      <td>7</td>\n",
       "      <td>0.016454</td>\n",
       "    </tr>\n",
       "    <tr>\n",
       "      <th>delinq_2yrs</th>\n",
       "      <td>36</td>\n",
       "      <td>0.084622</td>\n",
       "    </tr>\n",
       "    <tr>\n",
       "      <th>loan_status</th>\n",
       "      <td>7</td>\n",
       "      <td>0.016454</td>\n",
       "    </tr>\n",
       "  </tbody>\n",
       "</table>\n",
       "</div>"
      ],
      "text/plain": [
       "                Count   Percent\n",
       "loan_amnt           7  0.016454\n",
       "int_rate            7  0.016454\n",
       "emp_length       1119  2.630342\n",
       "home_ownership      7  0.016454\n",
       "annual_inc         11  0.025857\n",
       "purpose             7  0.016454\n",
       "dti                 7  0.016454\n",
       "delinq_2yrs        36  0.084622\n",
       "loan_status         7  0.016454"
      ]
     },
     "execution_count": 246,
     "metadata": {},
     "output_type": "execute_result"
    }
   ],
   "source": [
    "#printing the count and null values in the dataframe\n",
    "dflc_null = pd.DataFrame({'Count': df_LC.isnull().sum(), 'Percent': 100*df_LC.isnull().sum()/len(df_LC)})\n",
    "dflc_null[dflc_null['Count'] > 0]"
   ]
  },
  {
   "cell_type": "code",
   "execution_count": 247,
   "metadata": {},
   "outputs": [
    {
     "data": {
      "text/html": [
       "<div>\n",
       "<style scoped>\n",
       "    .dataframe tbody tr th:only-of-type {\n",
       "        vertical-align: middle;\n",
       "    }\n",
       "\n",
       "    .dataframe tbody tr th {\n",
       "        vertical-align: top;\n",
       "    }\n",
       "\n",
       "    .dataframe thead th {\n",
       "        text-align: right;\n",
       "    }\n",
       "</style>\n",
       "<table border=\"1\" class=\"dataframe\">\n",
       "  <thead>\n",
       "    <tr style=\"text-align: right;\">\n",
       "      <th></th>\n",
       "      <th>loan_amnt</th>\n",
       "      <th>int_rate</th>\n",
       "      <th>emp_length</th>\n",
       "      <th>home_ownership</th>\n",
       "      <th>annual_inc</th>\n",
       "      <th>purpose</th>\n",
       "      <th>dti</th>\n",
       "      <th>delinq_2yrs</th>\n",
       "      <th>loan_status</th>\n",
       "    </tr>\n",
       "  </thead>\n",
       "  <tbody>\n",
       "    <tr>\n",
       "      <th>0</th>\n",
       "      <td>5000.0</td>\n",
       "      <td>10.65%</td>\n",
       "      <td>10+ years</td>\n",
       "      <td>RENT</td>\n",
       "      <td>24000.00</td>\n",
       "      <td>credit_card</td>\n",
       "      <td>27.65</td>\n",
       "      <td>0.0</td>\n",
       "      <td>Fully Paid</td>\n",
       "    </tr>\n",
       "    <tr>\n",
       "      <th>1</th>\n",
       "      <td>2500.0</td>\n",
       "      <td>15.27%</td>\n",
       "      <td>&lt; 1 year</td>\n",
       "      <td>RENT</td>\n",
       "      <td>30000.00</td>\n",
       "      <td>car</td>\n",
       "      <td>1.00</td>\n",
       "      <td>0.0</td>\n",
       "      <td>Charged Off</td>\n",
       "    </tr>\n",
       "    <tr>\n",
       "      <th>2</th>\n",
       "      <td>2400.0</td>\n",
       "      <td>15.96%</td>\n",
       "      <td>10+ years</td>\n",
       "      <td>RENT</td>\n",
       "      <td>12252.00</td>\n",
       "      <td>small_business</td>\n",
       "      <td>8.72</td>\n",
       "      <td>0.0</td>\n",
       "      <td>Fully Paid</td>\n",
       "    </tr>\n",
       "    <tr>\n",
       "      <th>3</th>\n",
       "      <td>10000.0</td>\n",
       "      <td>13.49%</td>\n",
       "      <td>10+ years</td>\n",
       "      <td>RENT</td>\n",
       "      <td>49200.00</td>\n",
       "      <td>other</td>\n",
       "      <td>20.00</td>\n",
       "      <td>0.0</td>\n",
       "      <td>Fully Paid</td>\n",
       "    </tr>\n",
       "    <tr>\n",
       "      <th>4</th>\n",
       "      <td>3000.0</td>\n",
       "      <td>12.69%</td>\n",
       "      <td>1 year</td>\n",
       "      <td>RENT</td>\n",
       "      <td>80000.00</td>\n",
       "      <td>other</td>\n",
       "      <td>17.94</td>\n",
       "      <td>0.0</td>\n",
       "      <td>Fully Paid</td>\n",
       "    </tr>\n",
       "    <tr>\n",
       "      <th>5</th>\n",
       "      <td>5000.0</td>\n",
       "      <td>7.90%</td>\n",
       "      <td>3 years</td>\n",
       "      <td>RENT</td>\n",
       "      <td>36000.00</td>\n",
       "      <td>wedding</td>\n",
       "      <td>11.20</td>\n",
       "      <td>0.0</td>\n",
       "      <td>Fully Paid</td>\n",
       "    </tr>\n",
       "    <tr>\n",
       "      <th>6</th>\n",
       "      <td>7000.0</td>\n",
       "      <td>15.96%</td>\n",
       "      <td>8 years</td>\n",
       "      <td>RENT</td>\n",
       "      <td>47004.00</td>\n",
       "      <td>debt_consolidation</td>\n",
       "      <td>23.51</td>\n",
       "      <td>0.0</td>\n",
       "      <td>Fully Paid</td>\n",
       "    </tr>\n",
       "    <tr>\n",
       "      <th>7</th>\n",
       "      <td>3000.0</td>\n",
       "      <td>18.64%</td>\n",
       "      <td>9 years</td>\n",
       "      <td>RENT</td>\n",
       "      <td>48000.00</td>\n",
       "      <td>car</td>\n",
       "      <td>5.35</td>\n",
       "      <td>0.0</td>\n",
       "      <td>Fully Paid</td>\n",
       "    </tr>\n",
       "    <tr>\n",
       "      <th>8</th>\n",
       "      <td>5600.0</td>\n",
       "      <td>21.28%</td>\n",
       "      <td>4 years</td>\n",
       "      <td>OWN</td>\n",
       "      <td>40000.00</td>\n",
       "      <td>small_business</td>\n",
       "      <td>5.55</td>\n",
       "      <td>0.0</td>\n",
       "      <td>Charged Off</td>\n",
       "    </tr>\n",
       "    <tr>\n",
       "      <th>9</th>\n",
       "      <td>5375.0</td>\n",
       "      <td>12.69%</td>\n",
       "      <td>&lt; 1 year</td>\n",
       "      <td>RENT</td>\n",
       "      <td>15000.00</td>\n",
       "      <td>other</td>\n",
       "      <td>18.08</td>\n",
       "      <td>0.0</td>\n",
       "      <td>Charged Off</td>\n",
       "    </tr>\n",
       "    <tr>\n",
       "      <th>10</th>\n",
       "      <td>6500.0</td>\n",
       "      <td>14.65%</td>\n",
       "      <td>5 years</td>\n",
       "      <td>OWN</td>\n",
       "      <td>72000.00</td>\n",
       "      <td>debt_consolidation</td>\n",
       "      <td>16.12</td>\n",
       "      <td>0.0</td>\n",
       "      <td>Fully Paid</td>\n",
       "    </tr>\n",
       "    <tr>\n",
       "      <th>11</th>\n",
       "      <td>12000.0</td>\n",
       "      <td>12.69%</td>\n",
       "      <td>10+ years</td>\n",
       "      <td>OWN</td>\n",
       "      <td>75000.00</td>\n",
       "      <td>debt_consolidation</td>\n",
       "      <td>10.78</td>\n",
       "      <td>0.0</td>\n",
       "      <td>Fully Paid</td>\n",
       "    </tr>\n",
       "    <tr>\n",
       "      <th>12</th>\n",
       "      <td>9000.0</td>\n",
       "      <td>13.49%</td>\n",
       "      <td>&lt; 1 year</td>\n",
       "      <td>RENT</td>\n",
       "      <td>30000.00</td>\n",
       "      <td>debt_consolidation</td>\n",
       "      <td>10.08</td>\n",
       "      <td>0.0</td>\n",
       "      <td>Charged Off</td>\n",
       "    </tr>\n",
       "    <tr>\n",
       "      <th>13</th>\n",
       "      <td>3000.0</td>\n",
       "      <td>9.91%</td>\n",
       "      <td>3 years</td>\n",
       "      <td>RENT</td>\n",
       "      <td>15000.00</td>\n",
       "      <td>credit_card</td>\n",
       "      <td>12.56</td>\n",
       "      <td>0.0</td>\n",
       "      <td>Fully Paid</td>\n",
       "    </tr>\n",
       "    <tr>\n",
       "      <th>14</th>\n",
       "      <td>10000.0</td>\n",
       "      <td>10.65%</td>\n",
       "      <td>3 years</td>\n",
       "      <td>RENT</td>\n",
       "      <td>100000.00</td>\n",
       "      <td>other</td>\n",
       "      <td>7.06</td>\n",
       "      <td>0.0</td>\n",
       "      <td>Charged Off</td>\n",
       "    </tr>\n",
       "    <tr>\n",
       "      <th>15</th>\n",
       "      <td>1000.0</td>\n",
       "      <td>16.29%</td>\n",
       "      <td>&lt; 1 year</td>\n",
       "      <td>RENT</td>\n",
       "      <td>28000.00</td>\n",
       "      <td>debt_consolidation</td>\n",
       "      <td>20.31</td>\n",
       "      <td>0.0</td>\n",
       "      <td>Fully Paid</td>\n",
       "    </tr>\n",
       "    <tr>\n",
       "      <th>16</th>\n",
       "      <td>10000.0</td>\n",
       "      <td>15.27%</td>\n",
       "      <td>4 years</td>\n",
       "      <td>RENT</td>\n",
       "      <td>42000.00</td>\n",
       "      <td>home_improvement</td>\n",
       "      <td>18.60</td>\n",
       "      <td>0.0</td>\n",
       "      <td>Fully Paid</td>\n",
       "    </tr>\n",
       "    <tr>\n",
       "      <th>17</th>\n",
       "      <td>3600.0</td>\n",
       "      <td>6.03%</td>\n",
       "      <td>10+ years</td>\n",
       "      <td>MORTGAGE</td>\n",
       "      <td>110000.00</td>\n",
       "      <td>major_purchase</td>\n",
       "      <td>10.52</td>\n",
       "      <td>0.0</td>\n",
       "      <td>Fully Paid</td>\n",
       "    </tr>\n",
       "    <tr>\n",
       "      <th>18</th>\n",
       "      <td>6000.0</td>\n",
       "      <td>11.71%</td>\n",
       "      <td>1 year</td>\n",
       "      <td>MORTGAGE</td>\n",
       "      <td>84000.00</td>\n",
       "      <td>medical</td>\n",
       "      <td>18.44</td>\n",
       "      <td>2.0</td>\n",
       "      <td>Fully Paid</td>\n",
       "    </tr>\n",
       "    <tr>\n",
       "      <th>19</th>\n",
       "      <td>9200.0</td>\n",
       "      <td>6.03%</td>\n",
       "      <td>6 years</td>\n",
       "      <td>RENT</td>\n",
       "      <td>77385.19</td>\n",
       "      <td>debt_consolidation</td>\n",
       "      <td>9.86</td>\n",
       "      <td>0.0</td>\n",
       "      <td>Fully Paid</td>\n",
       "    </tr>\n",
       "    <tr>\n",
       "      <th>20</th>\n",
       "      <td>20250.0</td>\n",
       "      <td>15.27%</td>\n",
       "      <td>3 years</td>\n",
       "      <td>RENT</td>\n",
       "      <td>43370.00</td>\n",
       "      <td>debt_consolidation</td>\n",
       "      <td>26.53</td>\n",
       "      <td>0.0</td>\n",
       "      <td>Fully Paid</td>\n",
       "    </tr>\n",
       "    <tr>\n",
       "      <th>21</th>\n",
       "      <td>21000.0</td>\n",
       "      <td>12.42%</td>\n",
       "      <td>10+ years</td>\n",
       "      <td>RENT</td>\n",
       "      <td>105000.00</td>\n",
       "      <td>debt_consolidation</td>\n",
       "      <td>13.22</td>\n",
       "      <td>0.0</td>\n",
       "      <td>Charged Off</td>\n",
       "    </tr>\n",
       "    <tr>\n",
       "      <th>22</th>\n",
       "      <td>10000.0</td>\n",
       "      <td>11.71%</td>\n",
       "      <td>10+ years</td>\n",
       "      <td>OWN</td>\n",
       "      <td>50000.00</td>\n",
       "      <td>credit_card</td>\n",
       "      <td>11.18</td>\n",
       "      <td>0.0</td>\n",
       "      <td>Fully Paid</td>\n",
       "    </tr>\n",
       "    <tr>\n",
       "      <th>23</th>\n",
       "      <td>10000.0</td>\n",
       "      <td>11.71%</td>\n",
       "      <td>5 years</td>\n",
       "      <td>RENT</td>\n",
       "      <td>50000.00</td>\n",
       "      <td>debt_consolidation</td>\n",
       "      <td>16.01</td>\n",
       "      <td>0.0</td>\n",
       "      <td>Fully Paid</td>\n",
       "    </tr>\n",
       "    <tr>\n",
       "      <th>24</th>\n",
       "      <td>6000.0</td>\n",
       "      <td>11.71%</td>\n",
       "      <td>1 year</td>\n",
       "      <td>RENT</td>\n",
       "      <td>76000.00</td>\n",
       "      <td>major_purchase</td>\n",
       "      <td>2.40</td>\n",
       "      <td>0.0</td>\n",
       "      <td>Charged Off</td>\n",
       "    </tr>\n",
       "    <tr>\n",
       "      <th>25</th>\n",
       "      <td>15000.0</td>\n",
       "      <td>9.91%</td>\n",
       "      <td>2 years</td>\n",
       "      <td>MORTGAGE</td>\n",
       "      <td>92000.00</td>\n",
       "      <td>credit_card</td>\n",
       "      <td>29.44</td>\n",
       "      <td>0.0</td>\n",
       "      <td>Fully Paid</td>\n",
       "    </tr>\n",
       "    <tr>\n",
       "      <th>26</th>\n",
       "      <td>15000.0</td>\n",
       "      <td>14.27%</td>\n",
       "      <td>9 years</td>\n",
       "      <td>RENT</td>\n",
       "      <td>60000.00</td>\n",
       "      <td>debt_consolidation</td>\n",
       "      <td>15.22</td>\n",
       "      <td>0.0</td>\n",
       "      <td>Charged Off</td>\n",
       "    </tr>\n",
       "    <tr>\n",
       "      <th>27</th>\n",
       "      <td>5000.0</td>\n",
       "      <td>16.77%</td>\n",
       "      <td>2 years</td>\n",
       "      <td>RENT</td>\n",
       "      <td>50004.00</td>\n",
       "      <td>other</td>\n",
       "      <td>13.97</td>\n",
       "      <td>3.0</td>\n",
       "      <td>Charged Off</td>\n",
       "    </tr>\n",
       "    <tr>\n",
       "      <th>28</th>\n",
       "      <td>4000.0</td>\n",
       "      <td>11.71%</td>\n",
       "      <td>10+ years</td>\n",
       "      <td>MORTGAGE</td>\n",
       "      <td>106000.00</td>\n",
       "      <td>debt_consolidation</td>\n",
       "      <td>5.63</td>\n",
       "      <td>1.0</td>\n",
       "      <td>Fully Paid</td>\n",
       "    </tr>\n",
       "    <tr>\n",
       "      <th>29</th>\n",
       "      <td>8500.0</td>\n",
       "      <td>11.71%</td>\n",
       "      <td>&lt; 1 year</td>\n",
       "      <td>RENT</td>\n",
       "      <td>25000.00</td>\n",
       "      <td>credit_card</td>\n",
       "      <td>12.19</td>\n",
       "      <td>0.0</td>\n",
       "      <td>Fully Paid</td>\n",
       "    </tr>\n",
       "    <tr>\n",
       "      <th>...</th>\n",
       "      <td>...</td>\n",
       "      <td>...</td>\n",
       "      <td>...</td>\n",
       "      <td>...</td>\n",
       "      <td>...</td>\n",
       "      <td>...</td>\n",
       "      <td>...</td>\n",
       "      <td>...</td>\n",
       "      <td>...</td>\n",
       "    </tr>\n",
       "    <tr>\n",
       "      <th>42484</th>\n",
       "      <td>1000.0</td>\n",
       "      <td>15.01%</td>\n",
       "      <td>1 year</td>\n",
       "      <td>RENT</td>\n",
       "      <td>17280.00</td>\n",
       "      <td>debt_consolidation</td>\n",
       "      <td>20.00</td>\n",
       "      <td>0.0</td>\n",
       "      <td>Does not meet the credit policy. Status:Fully ...</td>\n",
       "    </tr>\n",
       "    <tr>\n",
       "      <th>42485</th>\n",
       "      <td>4200.0</td>\n",
       "      <td>12.49%</td>\n",
       "      <td>1 year</td>\n",
       "      <td>RENT</td>\n",
       "      <td>49500.00</td>\n",
       "      <td>debt_consolidation</td>\n",
       "      <td>7.68</td>\n",
       "      <td>0.0</td>\n",
       "      <td>Does not meet the credit policy. Status:Fully ...</td>\n",
       "    </tr>\n",
       "    <tr>\n",
       "      <th>42487</th>\n",
       "      <td>1200.0</td>\n",
       "      <td>17.54%</td>\n",
       "      <td>&lt; 1 year</td>\n",
       "      <td>RENT</td>\n",
       "      <td>9600.00</td>\n",
       "      <td>educational</td>\n",
       "      <td>8.38</td>\n",
       "      <td>1.0</td>\n",
       "      <td>Does not meet the credit policy. Status:Fully ...</td>\n",
       "    </tr>\n",
       "    <tr>\n",
       "      <th>42488</th>\n",
       "      <td>3200.0</td>\n",
       "      <td>14.70%</td>\n",
       "      <td>&lt; 1 year</td>\n",
       "      <td>RENT</td>\n",
       "      <td>13000.00</td>\n",
       "      <td>debt_consolidation</td>\n",
       "      <td>9.42</td>\n",
       "      <td>0.0</td>\n",
       "      <td>Does not meet the credit policy. Status:Fully ...</td>\n",
       "    </tr>\n",
       "    <tr>\n",
       "      <th>42489</th>\n",
       "      <td>2000.0</td>\n",
       "      <td>14.38%</td>\n",
       "      <td>&lt; 1 year</td>\n",
       "      <td>RENT</td>\n",
       "      <td>40000.00</td>\n",
       "      <td>other</td>\n",
       "      <td>15.57</td>\n",
       "      <td>0.0</td>\n",
       "      <td>Does not meet the credit policy. Status:Fully ...</td>\n",
       "    </tr>\n",
       "    <tr>\n",
       "      <th>42490</th>\n",
       "      <td>9000.0</td>\n",
       "      <td>15.96%</td>\n",
       "      <td>&lt; 1 year</td>\n",
       "      <td>MORTGAGE</td>\n",
       "      <td>20000.00</td>\n",
       "      <td>debt_consolidation</td>\n",
       "      <td>15.66</td>\n",
       "      <td>0.0</td>\n",
       "      <td>Does not meet the credit policy. Status:Fully ...</td>\n",
       "    </tr>\n",
       "    <tr>\n",
       "      <th>42491</th>\n",
       "      <td>1250.0</td>\n",
       "      <td>14.38%</td>\n",
       "      <td>&lt; 1 year</td>\n",
       "      <td>RENT</td>\n",
       "      <td>10000.00</td>\n",
       "      <td>credit_card</td>\n",
       "      <td>5.64</td>\n",
       "      <td>0.0</td>\n",
       "      <td>Does not meet the credit policy. Status:Fully ...</td>\n",
       "    </tr>\n",
       "    <tr>\n",
       "      <th>42492</th>\n",
       "      <td>5000.0</td>\n",
       "      <td>11.22%</td>\n",
       "      <td>3 years</td>\n",
       "      <td>RENT</td>\n",
       "      <td>61000.00</td>\n",
       "      <td>moving</td>\n",
       "      <td>14.48</td>\n",
       "      <td>0.0</td>\n",
       "      <td>Does not meet the credit policy. Status:Charge...</td>\n",
       "    </tr>\n",
       "    <tr>\n",
       "      <th>42493</th>\n",
       "      <td>4000.0</td>\n",
       "      <td>15.33%</td>\n",
       "      <td>3 years</td>\n",
       "      <td>RENT</td>\n",
       "      <td>86000.00</td>\n",
       "      <td>credit_card</td>\n",
       "      <td>20.12</td>\n",
       "      <td>0.0</td>\n",
       "      <td>Does not meet the credit policy. Status:Fully ...</td>\n",
       "    </tr>\n",
       "    <tr>\n",
       "      <th>42494</th>\n",
       "      <td>1800.0</td>\n",
       "      <td>14.38%</td>\n",
       "      <td>1 year</td>\n",
       "      <td>RENT</td>\n",
       "      <td>40000.00</td>\n",
       "      <td>educational</td>\n",
       "      <td>4.11</td>\n",
       "      <td>0.0</td>\n",
       "      <td>Does not meet the credit policy. Status:Charge...</td>\n",
       "    </tr>\n",
       "    <tr>\n",
       "      <th>42495</th>\n",
       "      <td>4500.0</td>\n",
       "      <td>12.49%</td>\n",
       "      <td>1 year</td>\n",
       "      <td>RENT</td>\n",
       "      <td>31000.00</td>\n",
       "      <td>debt_consolidation</td>\n",
       "      <td>9.56</td>\n",
       "      <td>0.0</td>\n",
       "      <td>Does not meet the credit policy. Status:Fully ...</td>\n",
       "    </tr>\n",
       "    <tr>\n",
       "      <th>42496</th>\n",
       "      <td>5000.0</td>\n",
       "      <td>11.54%</td>\n",
       "      <td>9 years</td>\n",
       "      <td>MORTGAGE</td>\n",
       "      <td>55000.00</td>\n",
       "      <td>other</td>\n",
       "      <td>10.00</td>\n",
       "      <td>0.0</td>\n",
       "      <td>Does not meet the credit policy. Status:Charge...</td>\n",
       "    </tr>\n",
       "    <tr>\n",
       "      <th>42498</th>\n",
       "      <td>1000.0</td>\n",
       "      <td>12.49%</td>\n",
       "      <td>1 year</td>\n",
       "      <td>RENT</td>\n",
       "      <td>32000.00</td>\n",
       "      <td>credit_card</td>\n",
       "      <td>5.21</td>\n",
       "      <td>4.0</td>\n",
       "      <td>Does not meet the credit policy. Status:Fully ...</td>\n",
       "    </tr>\n",
       "    <tr>\n",
       "      <th>42499</th>\n",
       "      <td>1200.0</td>\n",
       "      <td>10.28%</td>\n",
       "      <td>&lt; 1 year</td>\n",
       "      <td>RENT</td>\n",
       "      <td>4000.00</td>\n",
       "      <td>educational</td>\n",
       "      <td>8.10</td>\n",
       "      <td>0.0</td>\n",
       "      <td>Does not meet the credit policy. Status:Fully ...</td>\n",
       "    </tr>\n",
       "    <tr>\n",
       "      <th>42500</th>\n",
       "      <td>10000.0</td>\n",
       "      <td>14.70%</td>\n",
       "      <td>&lt; 1 year</td>\n",
       "      <td>RENT</td>\n",
       "      <td>65000.00</td>\n",
       "      <td>credit_card</td>\n",
       "      <td>6.37</td>\n",
       "      <td>0.0</td>\n",
       "      <td>Does not meet the credit policy. Status:Fully ...</td>\n",
       "    </tr>\n",
       "    <tr>\n",
       "      <th>42501</th>\n",
       "      <td>4000.0</td>\n",
       "      <td>13.12%</td>\n",
       "      <td>10+ years</td>\n",
       "      <td>MORTGAGE</td>\n",
       "      <td>32000.00</td>\n",
       "      <td>home_improvement</td>\n",
       "      <td>7.91</td>\n",
       "      <td>0.0</td>\n",
       "      <td>Does not meet the credit policy. Status:Fully ...</td>\n",
       "    </tr>\n",
       "    <tr>\n",
       "      <th>42502</th>\n",
       "      <td>15600.0</td>\n",
       "      <td>11.86%</td>\n",
       "      <td>10+ years</td>\n",
       "      <td>MORTGAGE</td>\n",
       "      <td>63000.00</td>\n",
       "      <td>debt_consolidation</td>\n",
       "      <td>10.42</td>\n",
       "      <td>0.0</td>\n",
       "      <td>Does not meet the credit policy. Status:Charge...</td>\n",
       "    </tr>\n",
       "    <tr>\n",
       "      <th>42503</th>\n",
       "      <td>3500.0</td>\n",
       "      <td>10.91%</td>\n",
       "      <td>1 year</td>\n",
       "      <td>RENT</td>\n",
       "      <td>15000.00</td>\n",
       "      <td>debt_consolidation</td>\n",
       "      <td>11.52</td>\n",
       "      <td>0.0</td>\n",
       "      <td>Does not meet the credit policy. Status:Fully ...</td>\n",
       "    </tr>\n",
       "    <tr>\n",
       "      <th>42504</th>\n",
       "      <td>2600.0</td>\n",
       "      <td>14.38%</td>\n",
       "      <td>10+ years</td>\n",
       "      <td>OWN</td>\n",
       "      <td>42000.00</td>\n",
       "      <td>other</td>\n",
       "      <td>16.91</td>\n",
       "      <td>4.0</td>\n",
       "      <td>Does not meet the credit policy. Status:Charge...</td>\n",
       "    </tr>\n",
       "    <tr>\n",
       "      <th>42505</th>\n",
       "      <td>10500.0</td>\n",
       "      <td>16.91%</td>\n",
       "      <td>4 years</td>\n",
       "      <td>RENT</td>\n",
       "      <td>68000.00</td>\n",
       "      <td>credit_card</td>\n",
       "      <td>19.62</td>\n",
       "      <td>1.0</td>\n",
       "      <td>Does not meet the credit policy. Status:Fully ...</td>\n",
       "    </tr>\n",
       "    <tr>\n",
       "      <th>42506</th>\n",
       "      <td>10000.0</td>\n",
       "      <td>10.59%</td>\n",
       "      <td>2 years</td>\n",
       "      <td>MORTGAGE</td>\n",
       "      <td>55000.00</td>\n",
       "      <td>credit_card</td>\n",
       "      <td>17.96</td>\n",
       "      <td>0.0</td>\n",
       "      <td>Does not meet the credit policy. Status:Fully ...</td>\n",
       "    </tr>\n",
       "    <tr>\n",
       "      <th>42507</th>\n",
       "      <td>20000.0</td>\n",
       "      <td>15.01%</td>\n",
       "      <td>2 years</td>\n",
       "      <td>OWN</td>\n",
       "      <td>80000.00</td>\n",
       "      <td>credit_card</td>\n",
       "      <td>3.11</td>\n",
       "      <td>1.0</td>\n",
       "      <td>Does not meet the credit policy. Status:Charge...</td>\n",
       "    </tr>\n",
       "    <tr>\n",
       "      <th>42508</th>\n",
       "      <td>6725.0</td>\n",
       "      <td>13.12%</td>\n",
       "      <td>10+ years</td>\n",
       "      <td>MORTGAGE</td>\n",
       "      <td>60000.00</td>\n",
       "      <td>debt_consolidation</td>\n",
       "      <td>13.16</td>\n",
       "      <td>0.0</td>\n",
       "      <td>Does not meet the credit policy. Status:Charge...</td>\n",
       "    </tr>\n",
       "    <tr>\n",
       "      <th>42509</th>\n",
       "      <td>2000.0</td>\n",
       "      <td>12.80%</td>\n",
       "      <td>&lt; 1 year</td>\n",
       "      <td>OWN</td>\n",
       "      <td>10000.00</td>\n",
       "      <td>credit_card</td>\n",
       "      <td>3.48</td>\n",
       "      <td>1.0</td>\n",
       "      <td>Does not meet the credit policy. Status:Fully ...</td>\n",
       "    </tr>\n",
       "    <tr>\n",
       "      <th>42510</th>\n",
       "      <td>6000.0</td>\n",
       "      <td>13.12%</td>\n",
       "      <td>2 years</td>\n",
       "      <td>RENT</td>\n",
       "      <td>12000.00</td>\n",
       "      <td>credit_card</td>\n",
       "      <td>4.40</td>\n",
       "      <td>0.0</td>\n",
       "      <td>Does not meet the credit policy. Status:Fully ...</td>\n",
       "    </tr>\n",
       "    <tr>\n",
       "      <th>42511</th>\n",
       "      <td>5350.0</td>\n",
       "      <td>13.12%</td>\n",
       "      <td>1 year</td>\n",
       "      <td>OWN</td>\n",
       "      <td>4000.00</td>\n",
       "      <td>car</td>\n",
       "      <td>15.00</td>\n",
       "      <td>0.0</td>\n",
       "      <td>Does not meet the credit policy. Status:Fully ...</td>\n",
       "    </tr>\n",
       "    <tr>\n",
       "      <th>42513</th>\n",
       "      <td>10000.0</td>\n",
       "      <td>14.70%</td>\n",
       "      <td>1 year</td>\n",
       "      <td>RENT</td>\n",
       "      <td>50000.00</td>\n",
       "      <td>educational</td>\n",
       "      <td>7.22</td>\n",
       "      <td>2.0</td>\n",
       "      <td>Does not meet the credit policy. Status:Fully ...</td>\n",
       "    </tr>\n",
       "    <tr>\n",
       "      <th>42514</th>\n",
       "      <td>2000.0</td>\n",
       "      <td>7.12%</td>\n",
       "      <td>7 years</td>\n",
       "      <td>MORTGAGE</td>\n",
       "      <td>150000.00</td>\n",
       "      <td>debt_consolidation</td>\n",
       "      <td>5.60</td>\n",
       "      <td>0.0</td>\n",
       "      <td>Does not meet the credit policy. Status:Fully ...</td>\n",
       "    </tr>\n",
       "    <tr>\n",
       "      <th>42515</th>\n",
       "      <td>6000.0</td>\n",
       "      <td>10.59%</td>\n",
       "      <td>&lt; 1 year</td>\n",
       "      <td>RENT</td>\n",
       "      <td>20000.00</td>\n",
       "      <td>debt_consolidation</td>\n",
       "      <td>12.90</td>\n",
       "      <td>0.0</td>\n",
       "      <td>Does not meet the credit policy. Status:Fully ...</td>\n",
       "    </tr>\n",
       "    <tr>\n",
       "      <th>42516</th>\n",
       "      <td>4400.0</td>\n",
       "      <td>9.64%</td>\n",
       "      <td>2 years</td>\n",
       "      <td>MORTGAGE</td>\n",
       "      <td>30000.00</td>\n",
       "      <td>debt_consolidation</td>\n",
       "      <td>3.72</td>\n",
       "      <td>0.0</td>\n",
       "      <td>Does not meet the credit policy. Status:Fully ...</td>\n",
       "    </tr>\n",
       "  </tbody>\n",
       "</table>\n",
       "<p>41394 rows × 9 columns</p>\n",
       "</div>"
      ],
      "text/plain": [
       "       loan_amnt int_rate emp_length home_ownership  annual_inc  \\\n",
       "0         5000.0   10.65%  10+ years           RENT    24000.00   \n",
       "1         2500.0   15.27%   < 1 year           RENT    30000.00   \n",
       "2         2400.0   15.96%  10+ years           RENT    12252.00   \n",
       "3        10000.0   13.49%  10+ years           RENT    49200.00   \n",
       "4         3000.0   12.69%     1 year           RENT    80000.00   \n",
       "5         5000.0    7.90%    3 years           RENT    36000.00   \n",
       "6         7000.0   15.96%    8 years           RENT    47004.00   \n",
       "7         3000.0   18.64%    9 years           RENT    48000.00   \n",
       "8         5600.0   21.28%    4 years            OWN    40000.00   \n",
       "9         5375.0   12.69%   < 1 year           RENT    15000.00   \n",
       "10        6500.0   14.65%    5 years            OWN    72000.00   \n",
       "11       12000.0   12.69%  10+ years            OWN    75000.00   \n",
       "12        9000.0   13.49%   < 1 year           RENT    30000.00   \n",
       "13        3000.0    9.91%    3 years           RENT    15000.00   \n",
       "14       10000.0   10.65%    3 years           RENT   100000.00   \n",
       "15        1000.0   16.29%   < 1 year           RENT    28000.00   \n",
       "16       10000.0   15.27%    4 years           RENT    42000.00   \n",
       "17        3600.0    6.03%  10+ years       MORTGAGE   110000.00   \n",
       "18        6000.0   11.71%     1 year       MORTGAGE    84000.00   \n",
       "19        9200.0    6.03%    6 years           RENT    77385.19   \n",
       "20       20250.0   15.27%    3 years           RENT    43370.00   \n",
       "21       21000.0   12.42%  10+ years           RENT   105000.00   \n",
       "22       10000.0   11.71%  10+ years            OWN    50000.00   \n",
       "23       10000.0   11.71%    5 years           RENT    50000.00   \n",
       "24        6000.0   11.71%     1 year           RENT    76000.00   \n",
       "25       15000.0    9.91%    2 years       MORTGAGE    92000.00   \n",
       "26       15000.0   14.27%    9 years           RENT    60000.00   \n",
       "27        5000.0   16.77%    2 years           RENT    50004.00   \n",
       "28        4000.0   11.71%  10+ years       MORTGAGE   106000.00   \n",
       "29        8500.0   11.71%   < 1 year           RENT    25000.00   \n",
       "...          ...      ...        ...            ...         ...   \n",
       "42484     1000.0   15.01%     1 year           RENT    17280.00   \n",
       "42485     4200.0   12.49%     1 year           RENT    49500.00   \n",
       "42487     1200.0   17.54%   < 1 year           RENT     9600.00   \n",
       "42488     3200.0   14.70%   < 1 year           RENT    13000.00   \n",
       "42489     2000.0   14.38%   < 1 year           RENT    40000.00   \n",
       "42490     9000.0   15.96%   < 1 year       MORTGAGE    20000.00   \n",
       "42491     1250.0   14.38%   < 1 year           RENT    10000.00   \n",
       "42492     5000.0   11.22%    3 years           RENT    61000.00   \n",
       "42493     4000.0   15.33%    3 years           RENT    86000.00   \n",
       "42494     1800.0   14.38%     1 year           RENT    40000.00   \n",
       "42495     4500.0   12.49%     1 year           RENT    31000.00   \n",
       "42496     5000.0   11.54%    9 years       MORTGAGE    55000.00   \n",
       "42498     1000.0   12.49%     1 year           RENT    32000.00   \n",
       "42499     1200.0   10.28%   < 1 year           RENT     4000.00   \n",
       "42500    10000.0   14.70%   < 1 year           RENT    65000.00   \n",
       "42501     4000.0   13.12%  10+ years       MORTGAGE    32000.00   \n",
       "42502    15600.0   11.86%  10+ years       MORTGAGE    63000.00   \n",
       "42503     3500.0   10.91%     1 year           RENT    15000.00   \n",
       "42504     2600.0   14.38%  10+ years            OWN    42000.00   \n",
       "42505    10500.0   16.91%    4 years           RENT    68000.00   \n",
       "42506    10000.0   10.59%    2 years       MORTGAGE    55000.00   \n",
       "42507    20000.0   15.01%    2 years            OWN    80000.00   \n",
       "42508     6725.0   13.12%  10+ years       MORTGAGE    60000.00   \n",
       "42509     2000.0   12.80%   < 1 year            OWN    10000.00   \n",
       "42510     6000.0   13.12%    2 years           RENT    12000.00   \n",
       "42511     5350.0   13.12%     1 year            OWN     4000.00   \n",
       "42513    10000.0   14.70%     1 year           RENT    50000.00   \n",
       "42514     2000.0    7.12%    7 years       MORTGAGE   150000.00   \n",
       "42515     6000.0   10.59%   < 1 year           RENT    20000.00   \n",
       "42516     4400.0    9.64%    2 years       MORTGAGE    30000.00   \n",
       "\n",
       "                  purpose    dti  delinq_2yrs  \\\n",
       "0             credit_card  27.65          0.0   \n",
       "1                     car   1.00          0.0   \n",
       "2          small_business   8.72          0.0   \n",
       "3                   other  20.00          0.0   \n",
       "4                   other  17.94          0.0   \n",
       "5                 wedding  11.20          0.0   \n",
       "6      debt_consolidation  23.51          0.0   \n",
       "7                     car   5.35          0.0   \n",
       "8          small_business   5.55          0.0   \n",
       "9                   other  18.08          0.0   \n",
       "10     debt_consolidation  16.12          0.0   \n",
       "11     debt_consolidation  10.78          0.0   \n",
       "12     debt_consolidation  10.08          0.0   \n",
       "13            credit_card  12.56          0.0   \n",
       "14                  other   7.06          0.0   \n",
       "15     debt_consolidation  20.31          0.0   \n",
       "16       home_improvement  18.60          0.0   \n",
       "17         major_purchase  10.52          0.0   \n",
       "18                medical  18.44          2.0   \n",
       "19     debt_consolidation   9.86          0.0   \n",
       "20     debt_consolidation  26.53          0.0   \n",
       "21     debt_consolidation  13.22          0.0   \n",
       "22            credit_card  11.18          0.0   \n",
       "23     debt_consolidation  16.01          0.0   \n",
       "24         major_purchase   2.40          0.0   \n",
       "25            credit_card  29.44          0.0   \n",
       "26     debt_consolidation  15.22          0.0   \n",
       "27                  other  13.97          3.0   \n",
       "28     debt_consolidation   5.63          1.0   \n",
       "29            credit_card  12.19          0.0   \n",
       "...                   ...    ...          ...   \n",
       "42484  debt_consolidation  20.00          0.0   \n",
       "42485  debt_consolidation   7.68          0.0   \n",
       "42487         educational   8.38          1.0   \n",
       "42488  debt_consolidation   9.42          0.0   \n",
       "42489               other  15.57          0.0   \n",
       "42490  debt_consolidation  15.66          0.0   \n",
       "42491         credit_card   5.64          0.0   \n",
       "42492              moving  14.48          0.0   \n",
       "42493         credit_card  20.12          0.0   \n",
       "42494         educational   4.11          0.0   \n",
       "42495  debt_consolidation   9.56          0.0   \n",
       "42496               other  10.00          0.0   \n",
       "42498         credit_card   5.21          4.0   \n",
       "42499         educational   8.10          0.0   \n",
       "42500         credit_card   6.37          0.0   \n",
       "42501    home_improvement   7.91          0.0   \n",
       "42502  debt_consolidation  10.42          0.0   \n",
       "42503  debt_consolidation  11.52          0.0   \n",
       "42504               other  16.91          4.0   \n",
       "42505         credit_card  19.62          1.0   \n",
       "42506         credit_card  17.96          0.0   \n",
       "42507         credit_card   3.11          1.0   \n",
       "42508  debt_consolidation  13.16          0.0   \n",
       "42509         credit_card   3.48          1.0   \n",
       "42510         credit_card   4.40          0.0   \n",
       "42511                 car  15.00          0.0   \n",
       "42513         educational   7.22          2.0   \n",
       "42514  debt_consolidation   5.60          0.0   \n",
       "42515  debt_consolidation  12.90          0.0   \n",
       "42516  debt_consolidation   3.72          0.0   \n",
       "\n",
       "                                             loan_status  \n",
       "0                                             Fully Paid  \n",
       "1                                            Charged Off  \n",
       "2                                             Fully Paid  \n",
       "3                                             Fully Paid  \n",
       "4                                             Fully Paid  \n",
       "5                                             Fully Paid  \n",
       "6                                             Fully Paid  \n",
       "7                                             Fully Paid  \n",
       "8                                            Charged Off  \n",
       "9                                            Charged Off  \n",
       "10                                            Fully Paid  \n",
       "11                                            Fully Paid  \n",
       "12                                           Charged Off  \n",
       "13                                            Fully Paid  \n",
       "14                                           Charged Off  \n",
       "15                                            Fully Paid  \n",
       "16                                            Fully Paid  \n",
       "17                                            Fully Paid  \n",
       "18                                            Fully Paid  \n",
       "19                                            Fully Paid  \n",
       "20                                            Fully Paid  \n",
       "21                                           Charged Off  \n",
       "22                                            Fully Paid  \n",
       "23                                            Fully Paid  \n",
       "24                                           Charged Off  \n",
       "25                                            Fully Paid  \n",
       "26                                           Charged Off  \n",
       "27                                           Charged Off  \n",
       "28                                            Fully Paid  \n",
       "29                                            Fully Paid  \n",
       "...                                                  ...  \n",
       "42484  Does not meet the credit policy. Status:Fully ...  \n",
       "42485  Does not meet the credit policy. Status:Fully ...  \n",
       "42487  Does not meet the credit policy. Status:Fully ...  \n",
       "42488  Does not meet the credit policy. Status:Fully ...  \n",
       "42489  Does not meet the credit policy. Status:Fully ...  \n",
       "42490  Does not meet the credit policy. Status:Fully ...  \n",
       "42491  Does not meet the credit policy. Status:Fully ...  \n",
       "42492  Does not meet the credit policy. Status:Charge...  \n",
       "42493  Does not meet the credit policy. Status:Fully ...  \n",
       "42494  Does not meet the credit policy. Status:Charge...  \n",
       "42495  Does not meet the credit policy. Status:Fully ...  \n",
       "42496  Does not meet the credit policy. Status:Charge...  \n",
       "42498  Does not meet the credit policy. Status:Fully ...  \n",
       "42499  Does not meet the credit policy. Status:Fully ...  \n",
       "42500  Does not meet the credit policy. Status:Fully ...  \n",
       "42501  Does not meet the credit policy. Status:Fully ...  \n",
       "42502  Does not meet the credit policy. Status:Charge...  \n",
       "42503  Does not meet the credit policy. Status:Fully ...  \n",
       "42504  Does not meet the credit policy. Status:Charge...  \n",
       "42505  Does not meet the credit policy. Status:Fully ...  \n",
       "42506  Does not meet the credit policy. Status:Fully ...  \n",
       "42507  Does not meet the credit policy. Status:Charge...  \n",
       "42508  Does not meet the credit policy. Status:Charge...  \n",
       "42509  Does not meet the credit policy. Status:Fully ...  \n",
       "42510  Does not meet the credit policy. Status:Fully ...  \n",
       "42511  Does not meet the credit policy. Status:Fully ...  \n",
       "42513  Does not meet the credit policy. Status:Fully ...  \n",
       "42514  Does not meet the credit policy. Status:Fully ...  \n",
       "42515  Does not meet the credit policy. Status:Fully ...  \n",
       "42516  Does not meet the credit policy. Status:Fully ...  \n",
       "\n",
       "[41394 rows x 9 columns]"
      ]
     },
     "execution_count": 247,
     "metadata": {},
     "output_type": "execute_result"
    }
   ],
   "source": [
    "## dropping the null rows since we have sufficient amount of data and there is no need to fill the null values.\n",
    "df_LC.dropna(axis=0)"
   ]
  },
  {
   "cell_type": "code",
   "execution_count": 248,
   "metadata": {},
   "outputs": [
    {
     "data": {
      "text/plain": [
       "array(['Fully Paid', 'Charged Off', nan,\n",
       "       'Does not meet the credit policy. Status:Fully Paid',\n",
       "       'Does not meet the credit policy. Status:Charged Off'],\n",
       "      dtype=object)"
      ]
     },
     "execution_count": 248,
     "metadata": {},
     "output_type": "execute_result"
    }
   ],
   "source": [
    "df_LC['loan_status'].unique()"
   ]
  },
  {
   "cell_type": "markdown",
   "metadata": {},
   "source": [
    "### Distribution of the loan status values\n",
    "Let us now see how the values in the status column are distributed. We will plot an histogram of values against count of times the status appears on the dataframe"
   ]
  },
  {
   "cell_type": "code",
   "execution_count": 249,
   "metadata": {},
   "outputs": [
    {
     "data": {
      "image/png": "[encoded data removed]",
      "text/plain": [
       "<matplotlib.figure.Figure at 0x26b5ec50>"
      ]
     },
     "metadata": {},
     "output_type": "display_data"
    }
   ],
   "source": [
    "m =df_LC['loan_status'].value_counts()\n",
    "m = m.to_frame()\n",
    "m.reset_index(inplace=True)\n",
    "m.columns = ['Loan Status','Count']\n",
    "plt.subplots(figsize=(15,4))\n",
    "sns.barplot(y='Count', x='Loan Status', data=m)\n",
    "plt.xlabel(\"Length\")\n",
    "plt.ylabel(\"Count\")\n",
    "plt.title(\"Distribution of Loan Status in our Dataset\")\n",
    "plt.show()"
   ]
  },
  {
   "cell_type": "markdown",
   "metadata": {},
   "source": [
    "As you can see, we have a lot of loans which are current with fair amount of fully paid loans. other categories (including) default have a really low number. This means the data is imbalanced and we might need to do something about this later in the analysis. For now we will drop all the columns except 'Fully Paid', 'Default' and 'Charged off'. We will also merge 'Charged off' and 'Default' together meaning that anyone who fell into this category defaulted their loan. The following two parts tries to implement this."
   ]
  },
  {
   "cell_type": "code",
   "execution_count": 250,
   "metadata": {},
   "outputs": [],
   "source": [
    "df_LC = df_LC[df_LC.loan_status != 'Does not meet the credit policy. Status:Fully Paid']\n",
    "df_LC = df_LC[df_LC.loan_status != 'Does not meet the credit policy. Status:Charged Off']\n",
    "df_LC = df_LC[pd.notnull(df_LC.loan_status)]"
   ]
  },
  {
   "cell_type": "code",
   "execution_count": 251,
   "metadata": {},
   "outputs": [
    {
     "data": {
      "text/plain": [
       "Fully Paid    34116\n",
       "Default        5670\n",
       "Name: loan_status, dtype: int64"
      ]
     },
     "execution_count": 251,
     "metadata": {},
     "output_type": "execute_result"
    }
   ],
   "source": [
    "df_LC['loan_status'] = df_LC['loan_status'].replace({'Charged Off':'Default'})\n",
    "df_LC['loan_status'].value_counts()"
   ]
  },
  {
   "cell_type": "markdown",
   "metadata": {},
   "source": [
    "We will now encode the two categories listed above as 0 or 1 for our analysis. This will help us in predicting whether a person defaulted their loan or not. 0 means he deaulted and 1 means he paid off his loan."
   ]
  },
  {
   "cell_type": "code",
   "execution_count": 252,
   "metadata": {},
   "outputs": [
    {
     "data": {
      "text/plain": [
       "1    34116\n",
       "0     5670\n",
       "Name: loan_status, dtype: int64"
      ]
     },
     "execution_count": 252,
     "metadata": {},
     "output_type": "execute_result"
    }
   ],
   "source": [
    "df_LC.loan_status=df_LC.loan_status.astype('category').cat.codes\n",
    "df_LC.delinq_2yrs=df_LC.delinq_2yrs.astype('category').cat.codes\n",
    "df_LC.head()\n",
    "df_LC['loan_status'].value_counts()"
   ]
  },
  {
   "cell_type": "code",
   "execution_count": 253,
   "metadata": {},
   "outputs": [],
   "source": [
    "df_LC['emp_length'] = df_LC['emp_length'].replace({'< 1 year': '0 years', '10+ years': '11 years'})"
   ]
  },
  {
   "cell_type": "code",
   "execution_count": 254,
   "metadata": {},
   "outputs": [
    {
     "name": "stderr",
     "output_type": "stream",
     "text": [
      "C:\\ProgramData\\Anaconda3\\lib\\site-packages\\ipykernel_launcher.py:1: FutureWarning: currently extract(expand=None) means expand=False (return Index/Series/DataFrame) but in a future version of pandas this will be changed to expand=True (return DataFrame)\n",
      "  \"\"\"Entry point for launching an IPython kernel.\n"
     ]
    }
   ],
   "source": [
    "df_LC['emp_length'] = df_LC['emp_length'].str.extract('(\\d+)').astype('float')"
   ]
  },
  {
   "cell_type": "code",
   "execution_count": 255,
   "metadata": {},
   "outputs": [],
   "source": [
    "df_LC['emp_length'] = df_LC['emp_length'].fillna(round(df_LC['emp_length'].mean(), 1))"
   ]
  },
  {
   "cell_type": "code",
   "execution_count": 256,
   "metadata": {},
   "outputs": [
    {
     "name": "stderr",
     "output_type": "stream",
     "text": [
      "C:\\ProgramData\\Anaconda3\\lib\\site-packages\\ipykernel_launcher.py:1: FutureWarning: currently extract(expand=None) means expand=False (return Index/Series/DataFrame) but in a future version of pandas this will be changed to expand=True (return DataFrame)\n",
      "  \"\"\"Entry point for launching an IPython kernel.\n"
     ]
    }
   ],
   "source": [
    "df_LC['int_rate'] = df_LC['int_rate'].str.extract('(\\d+)').astype('float')"
   ]
  },
  {
   "cell_type": "code",
   "execution_count": 257,
   "metadata": {},
   "outputs": [
    {
     "data": {
      "text/plain": [
       "['loan_amnt',\n",
       " 'int_rate',\n",
       " 'emp_length',\n",
       " 'home_ownership',\n",
       " 'annual_inc',\n",
       " 'purpose',\n",
       " 'dti',\n",
       " 'delinq_2yrs',\n",
       " 'loan_status']"
      ]
     },
     "execution_count": 257,
     "metadata": {},
     "output_type": "execute_result"
    }
   ],
   "source": [
    "df_LC.columns.tolist()"
   ]
  },
  {
   "cell_type": "code",
   "execution_count": 258,
   "metadata": {},
   "outputs": [],
   "source": [
    "df_LC_dummies = [pd.get_dummies(df_LC['home_ownership'], prefix = 'home_ownership', prefix_sep = '_'),\n",
    "#                      pd.get_dummies(df_LC['loan_status'], prefix = 'loan_status', prefix_sep = '_'),\n",
    "                     pd.get_dummies(df_LC['purpose'], prefix = 'purpose', prefix_sep = '_')]\n",
    "# We create dummy variables from all 8 original independent variables, and save them into a list.\n",
    "# Note that we are using a particular naming convention for all variables: original variable name, colon, category name."
   ]
  },
  {
   "cell_type": "code",
   "execution_count": 259,
   "metadata": {},
   "outputs": [],
   "source": [
    "df_LC_dummies = pd.concat(df_LC_dummies, axis = 1)\n",
    "# We concatenate the dummy variables and this turns them into a dataframe."
   ]
  },
  {
   "cell_type": "code",
   "execution_count": 260,
   "metadata": {},
   "outputs": [],
   "source": [
    "df_LC = pd.concat([df_LC, df_LC_dummies], axis = 1)\n",
    "# Concatenates two dataframes."
   ]
  },
  {
   "cell_type": "code",
   "execution_count": 261,
   "metadata": {},
   "outputs": [],
   "source": [
    "df_LC = df_LC.drop(['home_ownership', 'purpose'], axis=1)"
   ]
  },
  {
   "cell_type": "code",
   "execution_count": 262,
   "metadata": {},
   "outputs": [],
   "source": [
    "traindata, testdata = train_test_split(df_LC, stratify=df_LC['loan_status'],test_size=.4, random_state=17)\n",
    "testdata.reset_index(drop=True, inplace=True)\n",
    "traindata.reset_index(drop=True, inplace=True)"
   ]
  },
  {
   "cell_type": "markdown",
   "metadata": {},
   "source": [
    "Now Scale the data so that each column has a mean of zero and unit standard deviation. Xunb (unbalanced set) and yunb are the independent and target variable."
   ]
  },
  {
   "cell_type": "code",
   "execution_count": 263,
   "metadata": {},
   "outputs": [],
   "source": [
    "sc = StandardScaler()\n",
    "Xunb = traindata.drop('loan_status', axis=1)\n",
    "yunb = traindata['loan_status']\n",
    "numerical = Xunb.columns[(Xunb.dtypes == 'float64') | (Xunb.dtypes == 'int64')].tolist()\n",
    "Xunb[numerical] = sc.fit_transform(Xunb[numerical])"
   ]
  },
  {
   "cell_type": "markdown",
   "metadata": {},
   "source": [
    "### Model Selection\n",
    "Now ready to build some models.The following would be approach for building and selecting the best model:\n",
    "\n",
    "Build a model on the imbalance dataset we got from data cleaning.\n",
    "Balance the dataset by using equal amount of default and 'fully paid' loans.\n",
    "\n",
    "### Trying the Unbalanced Dataset\n",
    "Let's first try the unbalanced dataset.The function below computes the receiver operating characteristic (ROC) curves for each of the models. This function will be called later in the analysis."
   ]
  },
  {
   "cell_type": "code",
   "execution_count": 264,
   "metadata": {},
   "outputs": [],
   "source": [
    "def createROC(models, X, y, Xte, yte):\n",
    "    false_p, true_p = [], [] ##false postives and true positives\n",
    "\n",
    "    for i in models.keys():  ##dict of models\n",
    "        models[i].fit(X, y)\n",
    "\n",
    "        fp, tp, threshold = roc_curve(yte, models[i].predict_proba(Xte)[:,1]) ##roc_curve function\n",
    "\n",
    "        true_p.append(tp)\n",
    "        false_p.append(fp)\n",
    "    return true_p, false_p ##returning the true postive and false positive"
   ]
  },
  {
   "cell_type": "markdown",
   "metadata": {},
   "source": [
    "I will try few models on the train dataset With 3 fold cross validation:\n",
    "\n",
    "1. Linear Discriminant Analysis\n",
    "2. Multinomial Naive Bayes\n",
    "3. Random Forest (tree based model)\n",
    "4. Logistic Regression"
   ]
  },
  {
   "cell_type": "code",
   "execution_count": 265,
   "metadata": {},
   "outputs": [
    {
     "name": "stderr",
     "output_type": "stream",
     "text": [
      "C:\\ProgramData\\Anaconda3\\lib\\site-packages\\sklearn\\discriminant_analysis.py:388: UserWarning: Variables are collinear.\n",
      "  warnings.warn(\"Variables are collinear.\")\n",
      "C:\\ProgramData\\Anaconda3\\lib\\site-packages\\sklearn\\discriminant_analysis.py:388: UserWarning: Variables are collinear.\n",
      "  warnings.warn(\"Variables are collinear.\")\n",
      "C:\\ProgramData\\Anaconda3\\lib\\site-packages\\sklearn\\discriminant_analysis.py:388: UserWarning: Variables are collinear.\n",
      "  warnings.warn(\"Variables are collinear.\")\n"
     ]
    },
    {
     "name": "stdout",
     "output_type": "stream",
     "text": [
      "LDA [0.85610155 0.8583637  0.85509614] 0.8565204641615348\n",
      "MNB [0.85748398 0.85748398 0.85748398] 0.8574839763730049\n",
      "RF [0.85270831 0.85484479 0.85497047] 0.854174521385782\n",
      "LR [0.8568556  0.857861   0.85647857] 0.8570650580201918\n"
     ]
    }
   ],
   "source": [
    "from sklearn.discriminant_analysis import LinearDiscriminantAnalysis\n",
    "from sklearn.ensemble import RandomForestClassifier\n",
    "from sklearn.linear_model import LogisticRegression\n",
    "from sklearn.naive_bayes import MultinomialNB\n",
    "\n",
    "models = {'LDA': LinearDiscriminantAnalysis(),\n",
    "          'MNB': MultinomialNB(),\n",
    "          'RF': RandomForestClassifier(n_estimators=100),\n",
    "          'LR': LogisticRegression(C=1)}\n",
    "\n",
    "unbalset = {}\n",
    "for i in models.keys():\n",
    "    scores = cross_val_score(models[i], Xunb - np.min(Xunb) + 1,\n",
    "                                    yunb, cv=3)\n",
    "    unbalset[i] = scores\n",
    "    print(i, scores, np.mean(scores))"
   ]
  },
  {
   "cell_type": "markdown",
   "metadata": {},
   "source": [
    "Looks like Logistic regression provides the best estimate and almost all of the models giving the same results. Because of the issue of collinearity in LDA, we are going to ignore that.\n",
    "\n",
    "Now creating the test set for the analysis and scaling it."
   ]
  },
  {
   "cell_type": "code",
   "execution_count": 267,
   "metadata": {},
   "outputs": [],
   "source": [
    "Xte = testdata.drop('loan_status', axis=1)\n",
    "yte = testdata['loan_status']\n",
    "numerical = Xte.columns[(Xte.dtypes == 'float64') | (Xte.dtypes == 'int64')].tolist()\n",
    "Xte[numerical] = sc.fit_transform(Xte[numerical])"
   ]
  },
  {
   "cell_type": "markdown",
   "metadata": {},
   "source": [
    "Computing the ROC curves for the models and finding the true positive and false positives."
   ]
  },
  {
   "cell_type": "code",
   "execution_count": 268,
   "metadata": {},
   "outputs": [
    {
     "name": "stderr",
     "output_type": "stream",
     "text": [
      "C:\\ProgramData\\Anaconda3\\lib\\site-packages\\sklearn\\discriminant_analysis.py:388: UserWarning: Variables are collinear.\n",
      "  warnings.warn(\"Variables are collinear.\")\n"
     ]
    }
   ],
   "source": [
    "tp_unbalset, fp_unbalset = createROC(models, Xunb - np.min(Xunb) + 1, yunb, Xte - np.min(Xte) + 1, yte)"
   ]
  },
  {
   "cell_type": "code",
   "execution_count": 269,
   "metadata": {},
   "outputs": [],
   "source": [
    "model =  LogisticRegression(C=1)\n",
    "model.fit(Xunb, yunb)\n",
    "predict = model.predict(Xte) #prediction of Xte which can be used to test against yte (testdata values or true values of y)"
   ]
  },
  {
   "cell_type": "code",
   "execution_count": 270,
   "metadata": {},
   "outputs": [
    {
     "data": {
      "text/plain": [
       "1    13647\n",
       "0     2268\n",
       "Name: loan_status, dtype: int64"
      ]
     },
     "execution_count": 270,
     "metadata": {},
     "output_type": "execute_result"
    }
   ],
   "source": [
    "m = yte.to_frame()\n",
    "m['loan_status'].value_counts()"
   ]
  },
  {
   "cell_type": "markdown",
   "metadata": {},
   "source": [
    "We will now plot the cross-validation scores, ROC curves and confusion matrix of random forest model. X axis is the true value and Y axis is the predicted value."
   ]
  },
  {
   "cell_type": "code",
   "execution_count": 271,
   "metadata": {},
   "outputs": [
    {
     "data": {
      "text/plain": [
       "(0.0, 2.0, 2.0, 0.0)"
      ]
     },
     "execution_count": 271,
     "metadata": {},
     "output_type": "execute_result"
    },
    {
     "data": {
      "image/png": "[encoded data removed]",
      "text/plain": [
       "<matplotlib.figure.Figure at 0x1dc95748>"
      ]
     },
     "metadata": {},
     "output_type": "display_data"
    }
   ],
   "source": [
    "fig, axes = plt.subplots(nrows=1, ncols=3, figsize=(18,5))\n",
    "\n",
    "ax = pd.DataFrame(unbalset).boxplot(widths=(0.9,0.9,0.9,0.9), grid=False, vert=False, ax=axes[0])\n",
    "ax.set_ylabel('Classifier')\n",
    "ax.set_xlabel('Cross-Validation Score')\n",
    "\n",
    "for i in range(0, len(tp_unbalset)):\n",
    "    axes[1].plot(fp_unbalset[i], tp_unbalset[i], lw=1)\n",
    "\n",
    "axes[1].plot([0, 1], [0, 1], '--k', lw=1)\n",
    "axes[1].legend(models.keys())\n",
    "axes[1].set_ylabel('True Positive Rate')\n",
    "axes[1].set_xlabel('False Positive Rate')\n",
    "axes[1].set_xlim(0,1)\n",
    "axes[1].set_ylim(0,1)\n",
    "\n",
    "cm = confusion_matrix(yte, predict).T\n",
    "cm = cm.astype('float')/cm.sum(axis=0)\n",
    "\n",
    "ax = sns.heatmap(cm, annot=True, cmap='Blues', ax=axes[2]);\n",
    "ax.set_xlabel('True Value')\n",
    "ax.set_ylabel('Predicted Value')\n",
    "ax.axis('equal')"
   ]
  },
  {
   "cell_type": "markdown",
   "metadata": {},
   "source": [
    "The cross-validation scores and ROC curves suggest the Logistic Regression is the best model, though the MNB and linear discriminant analysis models are pretty close behind. If we look at the confusion matrix, though, we see a big problem.The model can predict who are going to pay off the loan with a good accuracy of 99% but cannot predict who are going to default. The true positive rate of default (0 predicting 0) is almost 0. Since our main goal is to predict defaulter's, we have to do something about this.\n",
    "\n",
    "The reason this is happening could be because of high imbalance in our dataset and the algorithm is putting everything into 1. We have to chose a new prediction threshold according to the sensitivity and specificity of the model. This will create some balance in predicting the binary outcome. Let's look at the plots below."
   ]
  },
  {
   "cell_type": "code",
   "execution_count": 272,
   "metadata": {},
   "outputs": [],
   "source": [
    "fp, tp, threshold = roc_curve(yte, model.predict_proba(Xte)[:,1]) #getting false and true positive from test set"
   ]
  },
  {
   "cell_type": "code",
   "execution_count": 273,
   "metadata": {
    "scrolled": true
   },
   "outputs": [
    {
     "data": {
      "text/plain": [
       "Text(0,0.5,'True Positive & False Positive Rates')"
      ]
     },
     "execution_count": 273,
     "metadata": {},
     "output_type": "execute_result"
    },
    {
     "data": {
      "image/png": "[encoded data removed]",
      "text/plain": [
       "<matplotlib.figure.Figure at 0x26b597f0>"
      ]
     },
     "metadata": {},
     "output_type": "display_data"
    }
   ],
   "source": [
    "fig, ax = plt.subplots(nrows=1, ncols=2, figsize=(16,6))\n",
    "\n",
    "ax[0].plot(threshold, tp + (1 - fp))\n",
    "ax[0].set_xlabel('Threshold')\n",
    "ax[0].set_ylabel('Sensitivity + Specificity')\n",
    "\n",
    "ax[1].plot(threshold, tp, label=\"tp\")\n",
    "ax[1].plot(threshold, 1 - fp, label=\"1 - fp\")\n",
    "ax[1].legend()\n",
    "ax[1].set_xlabel('Threshold')\n",
    "ax[1].set_ylabel('True Positive & False Positive Rates')"
   ]
  },
  {
   "cell_type": "code",
   "execution_count": 274,
   "metadata": {},
   "outputs": [
    {
     "name": "stdout",
     "output_type": "stream",
     "text": [
      "optimal threshold: 0.8388054199772907\n"
     ]
    }
   ],
   "source": [
    "##finding the optimal threshold for the model \n",
    "function = tp + (1 - fp)\n",
    "index = np.argmax(function)\n",
    "\n",
    "optimal_threshold = threshold[np.argmax(function)]\n",
    "print('optimal threshold:', optimal_threshold)"
   ]
  },
  {
   "cell_type": "markdown",
   "metadata": {},
   "source": [
    "The optimal threshold above is where the the two graphs meet.\n",
    "\n",
    "Sensitivity (also called the true positive rate, the recall, or probability of detection in some fields) measures the proportion of actual positives that are correctly identified as such (e.g., the percentage of sick people who are correctly identified as having the condition).\n",
    "\n",
    "Specificity (also called the true negative rate) measures the proportion of actual negatives that are correctly identified as such (e.g., the percentage of healthy people who are correctly identified as not having the condition)\n",
    "\n",
    "Now using this threshold for the model:"
   ]
  },
  {
   "cell_type": "code",
   "execution_count": 275,
   "metadata": {},
   "outputs": [
    {
     "data": {
      "text/plain": [
       "(0.0, 2.0, 2.0, 0.0)"
      ]
     },
     "execution_count": 275,
     "metadata": {},
     "output_type": "execute_result"
    },
    {
     "data": {
      "image/png": "[encoded data removed]",
      "text/plain": [
       "<matplotlib.figure.Figure at 0x2638ba58>"
      ]
     },
     "metadata": {},
     "output_type": "display_data"
    }
   ],
   "source": [
    "predict = model.predict_proba(Xte)[:,1]\n",
    "predict = np.where(predict >= optimal_threshold, 1, 0)\n",
    "\n",
    "fig, axes = plt.subplots(figsize=(15,6))\n",
    "\n",
    "cm = confusion_matrix(yte, predict).T\n",
    "cm = cm.astype('float')/cm.sum(axis=0)\n",
    "\n",
    "ax = sns.heatmap(cm, annot=True, cmap='Blues');\n",
    "ax.set_xlabel('True Value')\n",
    "ax.set_ylabel('Predicted Value')\n",
    "ax.axis('equal')"
   ]
  },
  {
   "cell_type": "markdown",
   "metadata": {},
   "source": [
    "The optimum threshold for the classifier have increased out models prediction power of Default (0). Even now the model doesn't provide a lot of prediction power and we have to train the model again using a different algorithm with some tweaks."
   ]
  },
  {
   "cell_type": "markdown",
   "metadata": {},
   "source": [
    "### Balancing the training dataset and creating a new model\n",
    "Now we will try to use a balanced dataset with equal amount of zeroes and 1's. The following part does the same."
   ]
  },
  {
   "cell_type": "code",
   "execution_count": 276,
   "metadata": {},
   "outputs": [],
   "source": [
    "y_default = traindata[traindata['loan_status'] == 0]\n",
    "n_paid = traindata[traindata['loan_status'] == 1].sample(n=len(y_default), random_state=17) ##chosing equal amount of 1's\n",
    "\n",
    "##creating a new dataframe for balanced set\n",
    "data = y_default.append(n_paid) \n",
    "\n",
    "##creating the independent and dependent array\n",
    "Xbal = data.drop('loan_status', axis=1)\n",
    "ybal = data['loan_status']"
   ]
  },
  {
   "cell_type": "code",
   "execution_count": 277,
   "metadata": {},
   "outputs": [],
   "source": [
    "## scaling it again\n",
    "numerical = Xbal.columns[(Xbal.dtypes == 'float64') | (Xbal.dtypes == 'int64')].tolist()\n",
    "Xbal[numerical] = sc.fit_transform(Xbal[numerical])"
   ]
  },
  {
   "cell_type": "markdown",
   "metadata": {},
   "source": [
    "Training the model on the balanced set"
   ]
  },
  {
   "cell_type": "code",
   "execution_count": 278,
   "metadata": {},
   "outputs": [
    {
     "name": "stderr",
     "output_type": "stream",
     "text": [
      "C:\\ProgramData\\Anaconda3\\lib\\site-packages\\sklearn\\discriminant_analysis.py:388: UserWarning: Variables are collinear.\n",
      "  warnings.warn(\"Variables are collinear.\")\n",
      "C:\\ProgramData\\Anaconda3\\lib\\site-packages\\sklearn\\discriminant_analysis.py:388: UserWarning: Variables are collinear.\n",
      "  warnings.warn(\"Variables are collinear.\")\n",
      "C:\\ProgramData\\Anaconda3\\lib\\site-packages\\sklearn\\discriminant_analysis.py:388: UserWarning: Variables are collinear.\n",
      "  warnings.warn(\"Variables are collinear.\")\n"
     ]
    },
    {
     "name": "stdout",
     "output_type": "stream",
     "text": [
      "LDA [0.67223373 0.70324646 0.67097941] 0.6821531996429115\n",
      "MNB [0.66684008 0.70087857 0.65746495] 0.6750611996055852\n",
      "RF [0.65542834 0.67227339 0.64347575] 0.6570591580634693\n",
      "LR [0.67401684 0.70523331 0.67161474] 0.6836216272822191\n"
     ]
    }
   ],
   "source": [
    "from sklearn.discriminant_analysis import LinearDiscriminantAnalysis\n",
    "from sklearn.ensemble import RandomForestClassifier\n",
    "from sklearn.linear_model import LogisticRegression\n",
    "from sklearn.naive_bayes import MultinomialNB\n",
    "\n",
    "models = {'LDA': LinearDiscriminantAnalysis(),\n",
    "          'MNB': MultinomialNB(),\n",
    "          'RF': RandomForestClassifier(n_estimators=100),\n",
    "          'LR': LogisticRegression(C=1)}\n",
    "\n",
    "balset = {}\n",
    "for i in models.keys():\n",
    "    scores = cross_val_score(models[i], Xbal - np.min(Xbal) + 1,\n",
    "                                    ybal, scoring='roc_auc', cv=3)\n",
    "    balset[i] = scores\n",
    "    print(i, scores, np.mean(scores))"
   ]
  },
  {
   "cell_type": "markdown",
   "metadata": {},
   "source": [
    "Even though we almost got the same result as before, This time we are going to select Random Forst method and will try to find the optimal number of trees using the gridsearchcv and try to make the predition based on this and lets see if there is any improvements in predicting 0's"
   ]
  },
  {
   "cell_type": "code",
   "execution_count": 279,
   "metadata": {},
   "outputs": [],
   "source": [
    "model = RandomForestClassifier(n_estimators=100)\n",
    "model.fit(Xbal, ybal)\n",
    "predict = model.predict(Xte)"
   ]
  },
  {
   "cell_type": "code",
   "execution_count": 280,
   "metadata": {},
   "outputs": [
    {
     "data": {
      "text/plain": [
       "(0.0, 2.0, 2.0, 0.0)"
      ]
     },
     "execution_count": 280,
     "metadata": {},
     "output_type": "execute_result"
    },
    {
     "data": {
      "image/png": "[encoded data removed]",
      "text/plain": [
       "<matplotlib.figure.Figure at 0x282e7fd0>"
      ]
     },
     "metadata": {},
     "output_type": "display_data"
    }
   ],
   "source": [
    "predict = model.predict(Xte)\n",
    "fig, axes = plt.subplots(figsize=(8,6))\n",
    "cm = confusion_matrix(yte, predict).T\n",
    "cm = cm.astype('float')/cm.sum(axis=0)\n",
    "ax = sns.heatmap(cm, annot=True, cmap='Blues');\n",
    "ax.set_xlabel('True Label')\n",
    "ax.set_ylabel('Predicted Label')\n",
    "ax.axis('equal')"
   ]
  },
  {
   "cell_type": "markdown",
   "metadata": {},
   "source": [
    "That's a significant improvement over the last model that we built using Logistic regression.\n",
    "\n",
    "Let's find the optimum number of estimators for this model and use that for prediction. This time we are going to use 5 fold cross validation."
   ]
  },
  {
   "cell_type": "code",
   "execution_count": 281,
   "metadata": {},
   "outputs": [
    {
     "name": "stdout",
     "output_type": "stream",
     "text": [
      "{'n_estimators': 800}\n",
      "0.6134626690182245\n"
     ]
    }
   ],
   "source": [
    "params = {'n_estimators': [50, 100, 200, 400, 600, 800]}\n",
    "grid_search = GridSearchCV(RandomForestClassifier(), param_grid=params,\n",
    "                                   scoring='accuracy', cv=5, n_jobs=-1)\n",
    "grid_search.fit(Xbal, ybal)\n",
    "print(grid_search.best_params_)\n",
    "print(grid_search.best_score_)"
   ]
  },
  {
   "cell_type": "markdown",
   "metadata": {},
   "source": [
    "The best model has 800 trees"
   ]
  },
  {
   "cell_type": "code",
   "execution_count": 282,
   "metadata": {},
   "outputs": [],
   "source": [
    "grid_search.best_estimator_.fit(Xbal, ybal)\n",
    "predict = model.predict(Xte)"
   ]
  },
  {
   "cell_type": "code",
   "execution_count": 283,
   "metadata": {},
   "outputs": [
    {
     "data": {
      "text/plain": [
       "(0.0, 2.0, 2.0, 0.0)"
      ]
     },
     "execution_count": 283,
     "metadata": {},
     "output_type": "execute_result"
    },
    {
     "data": {
      "image/png": "[encoded data removed]",
      "text/plain": [
       "<matplotlib.figure.Figure at 0x265b7cc0>"
      ]
     },
     "metadata": {},
     "output_type": "display_data"
    }
   ],
   "source": [
    "fig, axes = plt.subplots(figsize=(8,6))\n",
    "cm = confusion_matrix(yte, predict).T\n",
    "cm = cm.astype('float')/cm.sum(axis=0)\n",
    "ax = sns.heatmap(cm, annot=True, cmap='Blues');\n",
    "ax.set_xlabel('True Label')\n",
    "ax.set_ylabel('Predicted Label')\n",
    "ax.axis('equal')"
   ]
  },
  {
   "cell_type": "markdown",
   "metadata": {},
   "source": [
    "Interestingly, this gives us the same output as the previous model. Even now we have a good accuracy of 72% predicting defaluter's as defaulter's.\n",
    "\n",
    "Since random forest is based on decision trees, we can also plot the variable importance. Variable importance tells us which variable had highest importance when predicting an outcome."
   ]
  },
  {
   "cell_type": "code",
   "execution_count": null,
   "metadata": {},
   "outputs": [],
   "source": []
  }
 ],
 "metadata": {
  "kernelspec": {
   "display_name": "Python [conda env:root]",
   "language": "python",
   "name": "conda-root-py"
  },
  "language_info": {
   "codemirror_mode": {
    "name": "ipython",
    "version": 3
   },
   "file_extension": ".py",
   "mimetype": "text/x-python",
   "name": "python",
   "nbconvert_exporter": "python",
   "pygments_lexer": "ipython3",
   "version": "3.6.4"
  }
 },
 "nbformat": 4,
 "nbformat_minor": 2
}
